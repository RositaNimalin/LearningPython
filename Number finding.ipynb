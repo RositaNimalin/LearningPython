{
 "cells": [
  {
   "cell_type": "code",
   "execution_count": 1,
   "metadata": {},
   "outputs": [],
   "source": [
    "import os\n",
    "import re"
   ]
  },
  {
   "cell_type": "code",
   "execution_count": 3,
   "metadata": {},
   "outputs": [],
   "source": [
    "myfile = open('C:\\\\Users\\\\Nimalin\\\\PythonPrograms\\\\Myfiles.zip\\\\extracted_content\\\\Instructions.txt')"
   ]
  },
  {
   "cell_type": "code",
   "execution_count": 4,
   "metadata": {},
   "outputs": [],
   "source": [
    "text = myfile.read()\n"
   ]
  },
  {
   "cell_type": "code",
   "execution_count": 5,
   "metadata": {},
   "outputs": [
    {
     "name": "stdout",
     "output_type": "stream",
     "text": [
      "Good work on unzipping the file!\n",
      "You should now see 5 folders, each with a lot of random .txt files.\n",
      "Within one of these text files is a telephone number formated ###-###-#### \n",
      "Use the Python os module and regular expressions to iterate through each file, open it, and search for a telephone number.\n",
      "Good luck!\n"
     ]
    }
   ],
   "source": [
    "print(text)"
   ]
  },
  {
   "cell_type": "code",
   "execution_count": 13,
   "metadata": {},
   "outputs": [],
   "source": [
    "os.listdir()\n",
    "os.getcwd()\n",
    "os.chdir('C:\\\\Users\\\\Nimalin\\\\PythonPrograms\\\\Myfiles.zip\\\\extracted_content')"
   ]
  },
  {
   "cell_type": "code",
   "execution_count": 47,
   "metadata": {},
   "outputs": [
    {
     "name": "stdout",
     "output_type": "stream",
     "text": [
      "['719-266-283']\n"
     ]
    }
   ],
   "source": [
    "pattern = r'\\d{3}-\\d{3}-\\d{3}'\n",
    "#Dir = 'C:\\\\Users\\\\Nimalin\\\\PythonPrograms\\\\Myfiles.zip\\\\extracted_content'\n",
    "for root,sf,files in os.walk('C:\\\\Users\\\\Nimalin\\\\PythonPrograms\\\\Myfiles.zip\\\\extracted_content'):\n",
    "    #print(f)\n",
    "    #for s in sf:\n",
    "        #print(\"subfolders\",s)\n",
    "#     for f in files:\n",
    "#          print(os.path.abspath(os.path.join(root,f)))\n",
    "    for f in files:\n",
    "        #print(\"Files\",f)\n",
    "            #filePath = '\\\\'+s+'\\\\'+f\n",
    "        myfile = open(os.path.abspath(os.path.join(root,f)))\n",
    "        text = myfile.read()\n",
    "        result = re.findall(pattern,text)\n",
    "        if result:\n",
    "            print(result)\n",
    "        \n",
    "        "
   ]
  },
  {
   "cell_type": "code",
   "execution_count": null,
   "metadata": {},
   "outputs": [],
   "source": []
  }
 ],
 "metadata": {
  "kernelspec": {
   "display_name": "Python 3",
   "language": "python",
   "name": "python3"
  },
  "language_info": {
   "codemirror_mode": {
    "name": "ipython",
    "version": 3
   },
   "file_extension": ".py",
   "mimetype": "text/x-python",
   "name": "python",
   "nbconvert_exporter": "python",
   "pygments_lexer": "ipython3",
   "version": "3.7.4"
  }
 },
 "nbformat": 4,
 "nbformat_minor": 2
}
